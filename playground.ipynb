{
 "cells": [
  {
   "metadata": {
    "ExecuteTime": {
     "end_time": "2024-07-02T20:18:51.101478Z",
     "start_time": "2024-07-02T20:18:51.092489Z"
    }
   },
   "cell_type": "code",
   "source": [
    "from dotenv import load_dotenv\n",
    "from langchain.chains import create_history_aware_retriever, create_retrieval_chain\n",
    "from langchain.chains.combine_documents import create_stuff_documents_chain\n",
    "from langchain.document_loaders.csv_loader import CSVLoader\n",
    "from langchain_chroma import Chroma\n",
    "from langchain_community.chat_message_histories import ChatMessageHistory\n",
    "from langchain_core.chat_history import BaseChatMessageHistory\n",
    "from langchain_core.prompts import ChatPromptTemplate, MessagesPlaceholder\n",
    "from langchain_core.runnables.history import RunnableWithMessageHistory\n",
    "from langchain_openai import ChatOpenAI, OpenAIEmbeddings\n",
    "from langchain_text_splitters import RecursiveCharacterTextSplitter"
   ],
   "id": "acbe9f2800c5992",
   "outputs": [],
   "execution_count": 19
  },
  {
   "metadata": {
    "ExecuteTime": {
     "end_time": "2024-07-02T20:18:52.027038Z",
     "start_time": "2024-07-02T20:18:52.021213Z"
    }
   },
   "cell_type": "code",
   "source": "load_dotenv()",
   "id": "6b59f475eb4130c8",
   "outputs": [
    {
     "data": {
      "text/plain": [
       "True"
      ]
     },
     "execution_count": 20,
     "metadata": {},
     "output_type": "execute_result"
    }
   ],
   "execution_count": 20
  },
  {
   "metadata": {},
   "cell_type": "markdown",
   "source": "# Defining the Model",
   "id": "a91a53648447be7b"
  },
  {
   "metadata": {
    "ExecuteTime": {
     "end_time": "2024-07-02T20:18:53.374813Z",
     "start_time": "2024-07-02T20:18:53.333165Z"
    }
   },
   "cell_type": "code",
   "source": "model = ChatOpenAI(model=\"gpt-4o\", temperature=0.15)",
   "id": "b9b14e667f20db9",
   "outputs": [],
   "execution_count": 21
  },
  {
   "metadata": {},
   "cell_type": "markdown",
   "source": "# Retriever",
   "id": "1a03028d3a90b512"
  },
  {
   "metadata": {
    "ExecuteTime": {
     "end_time": "2024-07-02T20:18:54.940047Z",
     "start_time": "2024-07-02T20:18:54.141202Z"
    }
   },
   "cell_type": "code",
   "source": [
    "loader = CSVLoader('context.csv')\n",
    "docs = loader.load()\n",
    "\n",
    "text_splitter = RecursiveCharacterTextSplitter(chunk_size=1000, chunk_overlap=200)\n",
    "splits = text_splitter.split_documents(docs)\n",
    "vectorstore = Chroma.from_documents(documents=splits, embedding=OpenAIEmbeddings())\n",
    "\n",
    "retriever = vectorstore.as_retriever()"
   ],
   "id": "1a4b3ef5f303ad33",
   "outputs": [],
   "execution_count": 22
  },
  {
   "metadata": {},
   "cell_type": "markdown",
   "source": "# Building the system",
   "id": "f2fc2fedcf8b8222"
  },
  {
   "metadata": {},
   "cell_type": "markdown",
   "source": "### Contextualizing the user question",
   "id": "eae7ea712c62ff2c"
  },
  {
   "metadata": {
    "ExecuteTime": {
     "end_time": "2024-07-02T20:22:01.962045Z",
     "start_time": "2024-07-02T20:22:01.957360Z"
    }
   },
   "cell_type": "code",
   "source": [
    "contextualization_system_prompt = \"\"\"\n",
    "    Dado um histórico de chat e a última pergunta do usuário que pode fazer referência ao contexto no histórico de chat, \n",
    "    formule uma pergunta autônoma que possa ser entendida sem o histórico de chat. NÃO responda à pergunta, \n",
    "    apenas reformule-a se necessário e, caso contrário, retorne-a como está.\n",
    "\"\"\""
   ],
   "id": "16511ff478ec2a86",
   "outputs": [],
   "execution_count": 36
  },
  {
   "metadata": {
    "ExecuteTime": {
     "end_time": "2024-07-02T20:22:02.636070Z",
     "start_time": "2024-07-02T20:22:02.631272Z"
    }
   },
   "cell_type": "code",
   "source": [
    "contextualization_prompt = ChatPromptTemplate.from_messages(\n",
    "    [\n",
    "        (\"system\", contextualization_system_prompt),\n",
    "        MessagesPlaceholder(\"chat_history\"),\n",
    "        (\"human\", \"{input}\"),\n",
    "    ]\n",
    ")"
   ],
   "id": "b516c877b7c71a7b",
   "outputs": [],
   "execution_count": 37
  },
  {
   "metadata": {
    "ExecuteTime": {
     "end_time": "2024-07-02T20:22:02.817295Z",
     "start_time": "2024-07-02T20:22:02.813535Z"
    }
   },
   "cell_type": "code",
   "source": [
    "history_aware_retriever = create_history_aware_retriever(\n",
    "    model, retriever, contextualization_prompt\n",
    ")"
   ],
   "id": "c03c12fe5760ec51",
   "outputs": [],
   "execution_count": 38
  },
  {
   "metadata": {},
   "cell_type": "markdown",
   "source": "### Answering the question",
   "id": "c977c3e5f1d871e4"
  },
  {
   "metadata": {
    "ExecuteTime": {
     "end_time": "2024-07-02T20:22:03.135444Z",
     "start_time": "2024-07-02T20:22:03.132714Z"
    }
   },
   "cell_type": "code",
   "source": [
    "system_prompt = \"\"\"Você é um chatbot para atendimento e vendas aos clientes de uma empresa de eletrônicos, a Gabs LTDA.\n",
    "\n",
    "Os clientes irão te fazer perguntas sobre os produtos e serviços da empresa.\n",
    "Responda as perguntas dos clientes apenas usando os dados fornecidos.\n",
    "Se você não souber, diga \"Não sei, por favor entre em contato com o nosso suporte ao cliente\".\n",
    "Use uma linguagem envolvente, cortês e profissional semelhante à de um representante de atendimento ao cliente.\n",
    "\n",
    "Responda as perguntas na intenção de finalizar uma compra, mas não seja insistente. \n",
    "Capture o nome, email e telefone dos clientes que forem comprar algum produto e os agradeça pela compra.\n",
    "Ao capturar os dados necessários, lembre-se que nem todos usuários estão familiarizados com o processo de compra online.\n",
    "Se for necessário peça os dados um por um.\n",
    "\n",
    "Ao finalizar uma compra bem sucedida mostre ao cliente a URL de checkout: 'https://www.youtube.com/watch?v=dQw4w9WgXcQ'.\n",
    "Ao finalizar uma compra mal sucedida, se despessa brevemente e agradeça a conversa.\n",
    "\n",
    "Caso o cliente pergunte sobre um produto que não está disponível na base de dados, informe que o produto está em falta e ofereça um produto similar.\n",
    "\n",
    "{context}\n",
    "\"\"\""
   ],
   "id": "9e48bf2606a73aae",
   "outputs": [],
   "execution_count": 39
  },
  {
   "metadata": {
    "ExecuteTime": {
     "end_time": "2024-07-02T20:22:03.391597Z",
     "start_time": "2024-07-02T20:22:03.388869Z"
    }
   },
   "cell_type": "code",
   "source": [
    "prompt = ChatPromptTemplate.from_messages(\n",
    "    [\n",
    "        (\"system\", system_prompt),\n",
    "        MessagesPlaceholder(\"chat_history\"),\n",
    "        (\"human\", \"{input}\"),\n",
    "    ]\n",
    ")"
   ],
   "id": "48aa07979c750444",
   "outputs": [],
   "execution_count": 40
  },
  {
   "metadata": {
    "ExecuteTime": {
     "end_time": "2024-07-02T20:22:04.006473Z",
     "start_time": "2024-07-02T20:22:04.003584Z"
    }
   },
   "cell_type": "code",
   "source": "question_answer_chain = create_stuff_documents_chain(model, prompt)",
   "id": "ebbb5ad424effd4f",
   "outputs": [],
   "execution_count": 41
  },
  {
   "metadata": {
    "ExecuteTime": {
     "end_time": "2024-07-02T20:22:04.379418Z",
     "start_time": "2024-07-02T20:22:04.376304Z"
    }
   },
   "cell_type": "code",
   "source": "rag_chain = create_retrieval_chain(history_aware_retriever, question_answer_chain)",
   "id": "b84bf4056de96efe",
   "outputs": [],
   "execution_count": 42
  },
  {
   "metadata": {},
   "cell_type": "markdown",
   "source": "### Managing chat history (by session_id)",
   "id": "3131806c1d5583f0"
  },
  {
   "cell_type": "code",
   "id": "initial_id",
   "metadata": {
    "collapsed": true,
    "ExecuteTime": {
     "end_time": "2024-07-02T20:22:05.385191Z",
     "start_time": "2024-07-02T20:22:05.381734Z"
    }
   },
   "source": [
    "store = {}\n",
    "\n",
    "def get_session_history(session_id: str) -> BaseChatMessageHistory:\n",
    "    if session_id not in store:\n",
    "        store[session_id] = ChatMessageHistory()\n",
    "    return store[session_id]"
   ],
   "outputs": [],
   "execution_count": 43
  },
  {
   "metadata": {
    "ExecuteTime": {
     "end_time": "2024-07-02T20:22:05.938740Z",
     "start_time": "2024-07-02T20:22:05.934962Z"
    }
   },
   "cell_type": "code",
   "source": [
    "conversational_rag_chain = RunnableWithMessageHistory(\n",
    "    rag_chain,\n",
    "    get_session_history,\n",
    "    input_messages_key=\"input\",\n",
    "    history_messages_key=\"chat_history\",\n",
    "    output_messages_key=\"answer\",\n",
    ")"
   ],
   "id": "44c2e3f7b347ce5f",
   "outputs": [],
   "execution_count": 44
  },
  {
   "metadata": {},
   "cell_type": "markdown",
   "source": "# Running the system",
   "id": "36a3ec09fd473617"
  },
  {
   "metadata": {
    "ExecuteTime": {
     "end_time": "2024-07-02T20:22:09.065392Z",
     "start_time": "2024-07-02T20:22:06.864038Z"
    }
   },
   "cell_type": "code",
   "source": [
    "conversational_rag_chain.invoke(\n",
    "    {\"input\": \"Quais são os produtos disponíveis?\"},\n",
    "    config={\n",
    "        \"configurable\": {\"session_id\": \"abc123\"}\n",
    "    },\n",
    ")[\"answer\"]"
   ],
   "id": "b2752161ae64fcf1",
   "outputs": [
    {
     "data": {
      "text/plain": [
       "'Vendemos uma variedade de produtos eletrônicos, incluindo:\\n\\n- Smartphones\\n- Laptops\\n- Smartwatches\\n- Tablets\\n- Fones de Ouvido\\n- Câmeras\\n- Smart TVs\\n- Consoles de Videogame\\n\\nSe precisar de mais informações sobre algum produto específico, estou à disposição para ajudar!'"
      ]
     },
     "execution_count": 45,
     "metadata": {},
     "output_type": "execute_result"
    }
   ],
   "execution_count": 45
  },
  {
   "metadata": {
    "ExecuteTime": {
     "end_time": "2024-07-02T20:19:46.206967Z",
     "start_time": "2024-07-02T20:19:43.408869Z"
    }
   },
   "cell_type": "code",
   "source": [
    "conversational_rag_chain.invoke(\n",
    "    {\"input\": \"Quais são os smartphones disponíveis?\"},\n",
    "    config={\n",
    "        \"configurable\": {\"session_id\": \"abc123\"}\n",
    "    },\n",
    ")[\"answer\"]"
   ],
   "id": "146d2b418e279ba6",
   "outputs": [
    {
     "data": {
      "text/plain": [
       "'Temos disponível o NovoPhone X12 por R$ 3499. Gostaria de saber mais sobre ele ou está interessado em realizar a compra? Estou aqui para ajudar!'"
      ]
     },
     "execution_count": 33,
     "metadata": {},
     "output_type": "execute_result"
    }
   ],
   "execution_count": 33
  },
  {
   "metadata": {
    "ExecuteTime": {
     "end_time": "2024-07-02T20:19:48.052929Z",
     "start_time": "2024-07-02T20:19:46.209061Z"
    }
   },
   "cell_type": "code",
   "source": [
    "conversational_rag_chain.invoke(\n",
    "    {\"input\": \"Quais são os smartwatches disponíveis?\"},\n",
    "    config={\n",
    "        \"configurable\": {\"session_id\": \"def456\"}\n",
    "    },\n",
    ")[\"answer\"]"
   ],
   "id": "6b85be8d5107a399",
   "outputs": [
    {
     "data": {
      "text/plain": [
       "'Temos disponível o TimeWatch S2 por R$ 1299. \\n\\nGostaria de saber mais sobre ele ou realizar a compra?'"
      ]
     },
     "execution_count": 34,
     "metadata": {},
     "output_type": "execute_result"
    }
   ],
   "execution_count": 34
  },
  {
   "metadata": {
    "ExecuteTime": {
     "end_time": "2024-07-02T20:19:51.092346Z",
     "start_time": "2024-07-02T20:19:48.054382Z"
    }
   },
   "cell_type": "code",
   "source": [
    "conversational_rag_chain.invoke(\n",
    "    {\"input\": \"Eu gostei do NovoPhone X12, como faço para comprar?\"},\n",
    "    config={\n",
    "        \"configurable\": {\"session_id\": \"abc123\"}\n",
    "    },\n",
    ")[\"answer\"]"
   ],
   "id": "d0f493ffad3b46ff",
   "outputs": [
    {
     "data": {
      "text/plain": [
       "'Que ótimo saber que você gostou do NovoPhone X12! Para prosseguirmos com a compra, vou precisar de algumas informações suas. Vamos começar com o seu nome, por favor?'"
      ]
     },
     "execution_count": 35,
     "metadata": {},
     "output_type": "execute_result"
    }
   ],
   "execution_count": 35
  }
 ],
 "metadata": {
  "kernelspec": {
   "display_name": "Python 3",
   "language": "python",
   "name": "python3"
  },
  "language_info": {
   "codemirror_mode": {
    "name": "ipython",
    "version": 2
   },
   "file_extension": ".py",
   "mimetype": "text/x-python",
   "name": "python",
   "nbconvert_exporter": "python",
   "pygments_lexer": "ipython2",
   "version": "2.7.6"
  }
 },
 "nbformat": 4,
 "nbformat_minor": 5
}
